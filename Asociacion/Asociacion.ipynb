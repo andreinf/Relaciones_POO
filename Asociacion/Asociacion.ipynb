{
    "cells": [
        {
            "cell_type": "markdown",
            "metadata": {},
            "source": [
                "# Ejemplos de Asociacion en Python\n"
            ]
        },
        {
            "cell_type": "code",
            "execution_count": null,
            "metadata": {},
            "outputs": [
                {
                    "name": "stdout",
                    "output_type": "stream",
                    "text": [
                        "Andrés tiene un celular de marca Samsung\n"
                    ]
                }
            ],
            "source": [
                "# Asociación: Persona y Celular\n",
                "\n",
                "class Celular:\n",
                "    def __init__(self, marca):\n",
                "        self.marca = marca\n",
                "\n",
                "class Persona:\n",
                "    def __init__(self, nombre, celular):\n",
                "        self.nombre = nombre\n",
                "        self.celular = celular  # relación de asociación\n",
                "\n",
                "    def mostrar(self):\n",
                "        print(f\"{self.nombre} tiene un celular de marca {self.celular.marca}\")\n",
                "\n",
                "# Ejemplo de uso\n",
                "cel = Celular(\"Samsung\")\n",
                "persona = Persona(\"Andrés\", cel)\n",
                "persona.mostrar()\n"
            ]
        }
    ],
    "metadata": {
        "kernelspec": {
            "display_name": "Python 3",
            "language": "python",
            "name": "python3"
        },
        "language_info": {
            "codemirror_mode": {
                "name": "ipython",
                "version": 3
            },
            "file_extension": ".py",
            "mimetype": "text/x-python",
            "name": "python",
            "nbconvert_exporter": "python",
            "pygments_lexer": "ipython3",
            "version": "3.11.9"
        }
    },
    "nbformat": 4,
    "nbformat_minor": 2
}
