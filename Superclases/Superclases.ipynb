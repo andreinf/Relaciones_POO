{
    "cells": [
        {
            "cell_type": "markdown",
            "metadata": {},
            "source": [
                "# Ejemplos de Superclases en Python\n"
            ]
        },
        {
            "cell_type": "code",
            "execution_count": null,
            "metadata": {},
            "outputs": [],
            "source": [
                "# Superclase y subclases: Persona, Estudiante y Profesor\n",
                "\n",
                "class Persona:\n",
                "    def __init__(self, nombre):\n",
                "        self.nombre = nombre\n",
                "\n",
                "    def presentarse(self):\n",
                "        print(f\"Hola, soy {self.nombre}\")\n",
                "\n",
                "class Estudiante(Persona):\n",
                "    def __init__(self, nombre, carrera):\n",
                "        super().__init__(nombre)\n",
                "        self.carrera = carrera\n",
                "\n",
                "class Profesor(Persona):\n",
                "    def __init__(self, nombre, materia):\n",
                "        super().__init__(nombre)\n",
                "        self.materia = materia\n",
                "\n",
                "# Ejemplo de uso\n",
                "e = Estudiante(\"Ana\", \"Matemáticas\")\n",
                "p = Profesor(\"Luis\", \"Física\")\n",
                "\n",
                "e.presentarse()\n",
                "p.presentarse()\n"
            ]
        }
    ],
    "metadata": {
        "language_info": {
            "name": "python"
        }
    },
    "nbformat": 4,
    "nbformat_minor": 2
}
