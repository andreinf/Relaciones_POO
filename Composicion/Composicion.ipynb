{
    "cells": [
        {
            "cell_type": "markdown",
            "metadata": {},
            "source": [
                "# Ejemplos de Composicion en Python\n"
            ]
        },
        {
            "cell_type": "code",
            "execution_count": null,
            "metadata": {},
            "outputs": [
                {
                    "name": "stdout",
                    "output_type": "stream",
                    "text": [
                        "La casa tiene las siguientes habitaciones:\n",
                        " - Sala\n",
                        " - Cocina\n"
                    ]
                }
            ],
            "source": [
                "# Composición: Casa y Habitaciones\n",
                "\n",
                "class Habitacion:\n",
                "    def __init__(self, nombre):\n",
                "        self.nombre = nombre\n",
                "\n",
                "class Casa:\n",
                "    def __init__(self):\n",
                "        self.habitaciones = [Habitacion(\"Sala\"), Habitacion(\"Cocina\")]\n",
                "\n",
                "    def mostrar(self):\n",
                "        print(\"La casa tiene las siguientes habitaciones:\")\n",
                "        for h in self.habitaciones:\n",
                "            print(f\" - {h.nombre}\")\n",
                "\n",
                "# Ejemplo de uso\n",
                "casa = Casa()\n",
                "casa.mostrar()\n"
            ]
        }
    ],
    "metadata": {
        "kernelspec": {
            "display_name": "Python 3",
            "language": "python",
            "name": "python3"
        },
        "language_info": {
            "codemirror_mode": {
                "name": "ipython",
                "version": 3
            },
            "file_extension": ".py",
            "mimetype": "text/x-python",
            "name": "python",
            "nbconvert_exporter": "python",
            "pygments_lexer": "ipython3",
            "version": "3.11.9"
        }
    },
    "nbformat": 4,
    "nbformat_minor": 2
}
