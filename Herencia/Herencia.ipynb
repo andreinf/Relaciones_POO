{
    "cells": [
        {
            "cell_type": "markdown",
            "metadata": {},
            "source": [
                "# Ejemplos de Herencia en Python\n"
            ]
        },
        {
            "cell_type": "code",
            "execution_count": null,
            "metadata": {},
            "outputs": [],
            "source": [
                "# Herencia: Persona y Estudiante\n",
                "\n",
                "class Persona:\n",
                "    def __init__(self, nombre):\n",
                "        self.nombre = nombre\n",
                "\n",
                "    def saludar(self):\n",
                "        print(f\"Hola, soy {self.nombre}\")\n",
                "\n",
                "class Estudiante(Persona):\n",
                "    def __init__(self, nombre, carrera):\n",
                "        super().__init__(nombre)\n",
                "        self.carrera = carrera\n",
                "\n",
                "    def mostrar_carrera(self):\n",
                "        print(f\"Estudio {self.carrera}\")\n",
                "\n",
                "# Ejemplo de uso\n",
                "e = Estudiante(\"Carlos\", \"Ingeniería\")\n",
                "e.saludar()\n",
                "e.mostrar_carrera()\n"
            ]
        }
    ],
    "metadata": {
        "language_info": {
            "name": "python"
        }
    },
    "nbformat": 4,
    "nbformat_minor": 2
}
