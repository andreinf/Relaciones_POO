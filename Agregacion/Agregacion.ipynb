{
    "cells": [
        {
            "cell_type": "markdown",
            "metadata": {},
            "source": [
                "# Ejemplos de Agregacion en Python\n"
            ]
        },
        {
            "cell_type": "code",
            "execution_count": null,
            "metadata": {},
            "outputs": [
                {
                    "name": "stdout",
                    "output_type": "stream",
                    "text": [
                        "Estudiantes en UNAL:\n",
                        " - Ana\n",
                        " - Luis\n"
                    ]
                }
            ],
            "source": [
                "# Agregación: Universidad y Estudiantes\n",
                "\n",
                "class Estudiante:\n",
                "    def __init__(self, nombre):\n",
                "        self.nombre = nombre\n",
                "\n",
                "class Universidad:\n",
                "    def __init__(self, nombre):\n",
                "        self.nombre = nombre\n",
                "        self.estudiantes = []  # lista vacía inicialmente\n",
                "\n",
                "    def agregar_estudiante(self, estudiante):\n",
                "        self.estudiantes.append(estudiante)\n",
                "\n",
                "    def mostrar_estudiantes(self):\n",
                "        print(f\"Estudiantes en {self.nombre}:\")\n",
                "        for e in self.estudiantes:\n",
                "            print(f\" - {e.nombre}\")\n",
                "\n",
                "# Ejemplo de uso\n",
                "uni = Universidad(\"UNAL\")\n",
                "e1 = Estudiante(\"Ana\")\n",
                "e2 = Estudiante(\"Luis\")\n",
                "\n",
                "uni.agregar_estudiante(e1)\n",
                "uni.agregar_estudiante(e2)\n",
                "\n",
                "uni.mostrar_estudiantes()\n"
            ]
        }
    ],
    "metadata": {
        "kernelspec": {
            "display_name": "Python 3",
            "language": "python",
            "name": "python3"
        },
        "language_info": {
            "codemirror_mode": {
                "name": "ipython",
                "version": 3
            },
            "file_extension": ".py",
            "mimetype": "text/x-python",
            "name": "python",
            "nbconvert_exporter": "python",
            "pygments_lexer": "ipython3",
            "version": "3.11.9"
        }
    },
    "nbformat": 4,
    "nbformat_minor": 2
}
