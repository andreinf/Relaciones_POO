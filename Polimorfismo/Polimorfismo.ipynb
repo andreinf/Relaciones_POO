{
    "cells": [
        {
            "cell_type": "markdown",
            "metadata": {},
            "source": [
                "# Ejemplos de Polimorfismo en Python\n"
            ]
        },
        {
            "cell_type": "code",
            "execution_count": null,
            "metadata": {},
            "outputs": [],
            "source": [
                "# Polimorfismo: método saludar distinto en clases distintas\n",
                "\n",
                "class Persona:\n",
                "    def saludar(self):\n",
                "        print(\"Hola, soy una persona\")\n",
                "\n",
                "class Estudiante(Persona):\n",
                "    def saludar(self):\n",
                "        print(\"Hola, soy un estudiante\")\n",
                "\n",
                "class Profesor(Persona):\n",
                "    def saludar(self):\n",
                "        print(\"Hola, soy un profesor\")\n",
                "\n",
                "def dar_saludo(obj):\n",
                "    obj.saludar()\n",
                "\n",
                "p = Persona()\n",
                "e = Estudiante()\n",
                "pr = Profesor()\n",
                "\n",
                "for obj in [p, e, pr]:\n",
                "    dar_saludo(obj)\n"
            ]
        }
    ],
    "metadata": {
        "language_info": {
            "name": "python"
        }
    },
    "nbformat": 4,
    "nbformat_minor": 2
}
